{
 "cells": [
  {
   "cell_type": "markdown",
   "metadata": {},
   "source": [
    "## Neural Networks"
   ]
  },
  {
   "cell_type": "markdown",
   "metadata": {},
   "source": [
    "- Stacking of multiple sigmoid functions, known as layers\n",
    "    - $z^{[i]} = W^{[i]}x + b^{[i]}$, where $i$ is the layer\n",
    "    - Superscript square bracket refers to layers, round brackets refers to training examples\n",
    "    \n",
    "### Representation\n",
    "\n",
    "- Input layer, hidden layer, output layer\n",
    "- Training set contains inputs $x$ and outputs $y$, hence \"hidden\" layer as the middle nodes are not in training set\n",
    "- Each layer will generate a set of activations, denoted by $a^{[i]}$\n",
    "    - Hidden layer will have its own parameters, $w^{[i]}$ and $b^{[i]}$"
   ]
  }
 ],
 "metadata": {
  "kernelspec": {
   "display_name": "Python 3.8.2 64-bit",
   "language": "python",
   "name": "python38264bitcbaf11bcc615474d8de00896d066064a"
  },
  "language_info": {
   "codemirror_mode": {
    "name": "ipython",
    "version": 3
   },
   "file_extension": ".py",
   "mimetype": "text/x-python",
   "name": "python",
   "nbconvert_exporter": "python",
   "pygments_lexer": "ipython3",
   "version": "3.8.2"
  }
 },
 "nbformat": 4,
 "nbformat_minor": 4
}
