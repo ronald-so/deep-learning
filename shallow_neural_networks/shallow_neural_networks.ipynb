{
 "cells": [
  {
   "cell_type": "markdown",
   "metadata": {},
   "source": [
    "## Neural Networks"
   ]
  },
  {
   "cell_type": "markdown",
   "metadata": {},
   "source": [
    "- Stacking of multiple sigmoid functions, known as layers\n",
    "    - $z^{[i]} = W^{[i]}x + b^{[i]}$, where $i$ is the layer\n",
    "    - Superscript square bracket refers to layers, round brackets refers to training examples\n",
    "    \n",
    "### Representation\n",
    "\n",
    "- Input layer, hidden layer, output layer\n",
    "- Training set contains inputs $x$ and outputs $y$, hence \"hidden\" layer as the middle nodes are not in training set\n",
    "- Each layer will generate a set of activations, denoted by $a^{[i]}$\n",
    "    - Hidden layer will have its own parameters, $w^{[i]}$ and $b^{[i]}$\n",
    "    \n",
    "\n",
    "### Computation\n",
    "\n",
    "- Stacking transpose of parameter vector $w$ of each node into a matrix, multiplying by the input to obtain vector $z$, to obtain a vector of all the activations $a$\n",
    "    - $W^{[i]}x^{[i]} + b^{[i]} = z^{[i]}$\n",
    "    - $W = \\begin{bmatrix} w^{[i]T}_{1} \\\\ w^{[i]T}_{2} \\\\ w^{[i]T}_{3} \\end{bmatrix}$\n",
    "    - $a^{[i]} = \\sigma(z^{[i]})$\n",
    "- Above applies for one training example\n",
    "- For multiple training examples, we can apply the same neural network computation, i.e $x^{[1]} \\longrightarrow a^{[2](1)} = \\hat{y}^{[1]}$, $x^{[2]} \\longrightarrow a^{[2](2)} = \\hat{y}^{[2]}$, etc"
   ]
  },
  {
   "cell_type": "markdown",
   "metadata": {},
   "source": [
    "### Activation Functions\n",
    "\n",
    "- Some of the possible activations that can be used:\n",
    "\n",
    "    - Sigmoid function ($\\sigma$)\n",
    "        - $\\sigma(z) = \\dfrac{1}{1+e^{-z}}$\n",
    "        \n",
    "    - Hyperbolic tangent function, $tanh$\n",
    "        - $tanh(z) = \\dfrac{e^{z} - e^{-z}}{e^{z} + e^{-z}}$\n",
    "        - Almost always works better than the sigmoid function, since the mean is 0 and the data is more centered\n",
    "        \n",
    "    - ReLU (Rectified Linear Unit) function\n",
    "        - $a = max(0, z)$\n",
    "        - Default activation function\n",
    "        \n",
    "    - Leaky ReLU function\n",
    "        - $a = max(0.01z, z)$"
   ]
  },
  {
   "cell_type": "code",
   "execution_count": 2,
   "metadata": {},
   "outputs": [
    {
     "name": "stdout",
     "output_type": "stream",
     "text": [
      "(4, 1)\n"
     ]
    }
   ],
   "source": [
    "import numpy as np\n",
    "\n",
    "A = np.random.randn(4,3)\n",
    "B = np.sum(A, axis = 1, keepdims = True)\n",
    "\n",
    "print(B.shape)"
   ]
  }
 ],
 "metadata": {
  "kernelspec": {
   "display_name": "Python 3.8.2 64-bit",
   "language": "python",
   "name": "python38264bitcbaf11bcc615474d8de00896d066064a"
  },
  "language_info": {
   "codemirror_mode": {
    "name": "ipython",
    "version": 3
   },
   "file_extension": ".py",
   "mimetype": "text/x-python",
   "name": "python",
   "nbconvert_exporter": "python",
   "pygments_lexer": "ipython3",
   "version": "3.8.2"
  }
 },
 "nbformat": 4,
 "nbformat_minor": 4
}
