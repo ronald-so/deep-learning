{
 "cells": [
  {
   "cell_type": "markdown",
   "metadata": {},
   "source": [
    "$z^{(i)} = w^{T} x^{(i)} + b$\n",
    "\n",
    "$a^{(i)} = \\sigma(z^{(i)})$\n",
    "\n",
    "for $M$ training examples.\n",
    "\n",
    "Let $X$ be an $\\mathbb{R}^{n_{x} \\times m}$ matrix, with columns as the training examples. Instead of writing nested for loops to do our computation, we can calculate $z^{(i)}$ by\n",
    "\n",
    "$\\mathbb{Z} = [z^{(1)} z^{(2)} \\dotsm z^{(m)}] = w^{T} X + [b b \\dotsm b]$\n",
    "\n",
    "which results in a much more optimized solution."
   ]
  }
 ],
 "metadata": {
  "kernelspec": {
   "display_name": "Python 3.8.2 64-bit",
   "language": "python",
   "name": "python38264bitcbaf11bcc615474d8de00896d066064a"
  },
  "language_info": {
   "codemirror_mode": {
    "name": "ipython",
    "version": 3
   },
   "file_extension": ".py",
   "mimetype": "text/x-python",
   "name": "python",
   "nbconvert_exporter": "python",
   "pygments_lexer": "ipython3",
   "version": "3.8.2"
  }
 },
 "nbformat": 4,
 "nbformat_minor": 4
}
